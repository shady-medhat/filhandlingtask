{
 "cells": [
  {
   "cell_type": "code",
   "execution_count": 5,
   "id": "69a1e3a6",
   "metadata": {},
   "outputs": [
    {
     "name": "stdout",
     "output_type": "stream",
     "text": [
      "enter first name, last name, gender, id(3 numbers) separated by commas: shady, Elberry, male, 333\n"
     ]
    },
    {
     "data": {
      "text/plain": [
       "26"
      ]
     },
     "execution_count": 5,
     "metadata": {},
     "output_type": "execute_result"
    }
   ],
   "source": [
    "f = open('filehandling.txt',\"w\")\n",
    "data = input(\"enter first name, last name, gender, id(3 numbers) separated by commas:\")\n",
    "f.write(data)"
   ]
  },
  {
   "cell_type": "code",
   "execution_count": null,
   "id": "ab04c2a0",
   "metadata": {},
   "outputs": [],
   "source": []
  }
 ],
 "metadata": {
  "kernelspec": {
   "display_name": "Python 3 (ipykernel)",
   "language": "python",
   "name": "python3"
  },
  "language_info": {
   "codemirror_mode": {
    "name": "ipython",
    "version": 3
   },
   "file_extension": ".py",
   "mimetype": "text/x-python",
   "name": "python",
   "nbconvert_exporter": "python",
   "pygments_lexer": "ipython3",
   "version": "3.9.12"
  }
 },
 "nbformat": 4,
 "nbformat_minor": 5
}
